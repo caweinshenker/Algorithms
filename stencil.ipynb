{
 "cells": [
  {
   "cell_type": "code",
   "execution_count": 10,
   "metadata": {},
   "outputs": [
    {
     "name": "stdout",
     "output_type": "stream",
     "text": [
      "[0, 0, 1, 1]\n",
      "[0, 1, 0, 1]\n",
      "[1, 1, 0, 1]\n",
      "[1, 1, 1, 0]\n",
      "\n",
      "[1, 2, 4, 3]\n",
      "[3, 4, 6, 4]\n",
      "[5, 6, 6, 3]\n",
      "[4, 5, 4, 2]\n"
     ]
    }
   ],
   "source": [
    "#stencil\n",
    "import random\n",
    "\n",
    "def grid(n):\n",
    "    return [[random.randint(0, 1) for i in range(n)] for j in range(n)]\n",
    "\n",
    "def stencil(n, grid, filterWidth):\n",
    "    stencil = [[0] * n for i in range(n)]\n",
    "    for i in range(n):\n",
    "        for j in range(n):\n",
    "            for k in range(max(0, i - 1), min(i + 2, n)):\n",
    "                for l in range(max(0, j - 1), min(j + 2, n)):\n",
    "                    stencil[i][j] += grid[k][l]\n",
    "    return stencil\n",
    "\n",
    "def main():\n",
    "    n = 4\n",
    "    g = grid(n)\n",
    "    s = stencil(n, g, 3)\n",
    "    for row in g:\n",
    "        print(row)\n",
    "    print()\n",
    "    for row in s:\n",
    "        print(row)\n",
    "    \n",
    "    \n",
    "main()\n",
    "\n"
   ]
  },
  {
   "cell_type": "code",
   "execution_count": null,
   "metadata": {
    "collapsed": true
   },
   "outputs": [],
   "source": []
  }
 ],
 "metadata": {
  "kernelspec": {
   "display_name": "Python 3",
   "language": "python",
   "name": "python3"
  },
  "language_info": {
   "codemirror_mode": {
    "name": "ipython",
    "version": 3
   },
   "file_extension": ".py",
   "mimetype": "text/x-python",
   "name": "python",
   "nbconvert_exporter": "python",
   "pygments_lexer": "ipython3",
   "version": "3.6.2"
  }
 },
 "nbformat": 4,
 "nbformat_minor": 2
}
