{
 "cells": [
  {
   "cell_type": "code",
   "execution_count": 126,
   "metadata": {},
   "outputs": [
    {
     "name": "stdout",
     "output_type": "stream",
     "text": [
      "[3, 18, 30, 34, 40, 65, 84, 92, 92, 111, 120, 128, 129, 137, 143, 144, 150, 155, 155, 160, 168, 172, 174, 175, 188, 191, 211, 213, 233, 233, 242, 243, 246, 249, 252, 252, 259, 266, 272, 289, 296, 328, 331, 333, 336, 377, 397, 402, 406, 424, 429, 447, 452, 453, 500, 514, 519, 522, 524, 544, 547, 565, 577, 578, 583, 590, 607, 617, 617, 646, 661, 662, 667, 690, 726, 730, 732, 738, 738, 760, 776, 781, 786, 795, 797, 815, 816, 818, 824, 871, 873, 874, 878, 909, 923, 936, 979, 983, 984, 999] [  3  18  30  34  40  65  84  92  92 111 120 128 129 137 143 144 150 155\n",
      " 155 160 168 172 174 175 188 191 211 213 233 233 242 243 246 249 252 252\n",
      " 259 266 272 289 296 328 331 333 336 377 397 402 406 424 429 447 452 453\n",
      " 500 514 519 522 524 544 547 565 577 578 583 590 607 617 617 646 661 662\n",
      " 667 690 726 730 732 738 738 760 776 781 786 795 797 815 816 818 824 871\n",
      " 873 874 878 909 923 936 979 983 984 999]\n",
      "7.509332044719486e-05 -6.485332323791226e-05\n"
     ]
    }
   ],
   "source": [
    "#Quicksort\n",
    "import numpy as np\n",
    "import random\n",
    "import copy\n",
    "import timeit\n",
    "\n",
    "def partition(arr, l, r):\n",
    "    i = l\n",
    "    pivot = arr[r]\n",
    "    for j in range(l, r):\n",
    "        if arr[j] <= pivot:\n",
    "            arr[i], arr[j] = arr[j], arr[i]\n",
    "            i += 1\n",
    "    arr[i], arr[r] = arr[r], arr[i]\n",
    "    return i\n",
    "\n",
    "def random_partition(arr, l, r):\n",
    "    pi = random.randint(l, r)\n",
    "    arr[r], arr[pi] = arr[pi], arr[r]\n",
    "    return partition(arr, l, r)\n",
    "\n",
    "def quicksort_helper(arr, l, r):\n",
    "    if l >= r: return\n",
    "    pi = random_partition(arr, l, r)\n",
    "    quicksort_helper(arr, l, pi-1)\n",
    "    quicksort_helper(arr, pi+1, r)\n",
    "\n",
    "def quicksort(arr):\n",
    "    quicksort_helper(arr, 0, len(arr) - 1)\n",
    "\n",
    "def qs(arr):\n",
    "    if len(arr == 0):\n",
    "        return arr\n",
    "    pivot = arr[-1]\n",
    "    return qs([x for x in arr if x < pivot]) + [x for x in arr if x ==pivot] + qs([x for x in arr if x > pivot])\n",
    "    \n",
    "    \n",
    "def main():\n",
    "    nativeTime = 0\n",
    "    qsTime = 0\n",
    "    for i in range(1):\n",
    "        size = random.randint(0, 10)\n",
    "        testArr = np.random.randint(1000, size=100)\n",
    "        start = timeit.timeit()\n",
    "        correctSort = sorted(testArr)\n",
    "        nativeTime += timeit.timeit() - start\n",
    "        \n",
    "        #cp = copy.deepcopy(testArr)\n",
    "        start = timeit.timeit()\n",
    "        quicksort(testArr)\n",
    "        qsTime += timeit.timeit() - start\n",
    "        #print(correctSort, testArr)\n",
    "        print(correctSort, testArr)\n",
    "        #assert(correctSort == testArr)\n",
    "    print (nativeTime, qsTime)\n",
    "        \n",
    "main()\n",
    "    \n",
    "\n"
   ]
  },
  {
   "cell_type": "code",
   "execution_count": null,
   "metadata": {},
   "outputs": [],
   "source": [
    "print(\"Hi\")"
   ]
  },
  {
   "cell_type": "code",
   "execution_count": null,
   "metadata": {
    "collapsed": true
   },
   "outputs": [],
   "source": []
  },
  {
   "cell_type": "code",
   "execution_count": null,
   "metadata": {
    "collapsed": true
   },
   "outputs": [],
   "source": []
  }
 ],
 "metadata": {
  "kernelspec": {
   "display_name": "Python 3",
   "language": "python",
   "name": "python3"
  },
  "language_info": {
   "codemirror_mode": {
    "name": "ipython",
    "version": 3
   },
   "file_extension": ".py",
   "mimetype": "text/x-python",
   "name": "python",
   "nbconvert_exporter": "python",
   "pygments_lexer": "ipython3",
   "version": "3.6.2"
  }
 },
 "nbformat": 4,
 "nbformat_minor": 2
}
