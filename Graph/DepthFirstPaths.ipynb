{
 "cells": [
  {
   "cell_type": "code",
   "execution_count": 10,
   "metadata": {},
   "outputs": [
    {
     "name": "stdout",
     "output_type": "stream",
     "text": [
      "\n",
      "        Nodes: [0, 1, 2, 3, 4, 5, 6, 7, 8] \n",
      "        \n",
      "        Edges:\n",
      "        [[], [], [5], [], [], [2], [], [], []]\n",
      "        \n"
     ]
    },
    {
     "data": {
      "image/png": "[encoded data removed]",
      "text/plain": [
       "<matplotlib.figure.Figure at 0x206f4cb88d0>"
      ]
     },
     "metadata": {},
     "output_type": "display_data"
    },
    {
     "name": "stdout",
     "output_type": "stream",
     "text": [
      "2 4 None\n"
     ]
    },
    {
     "data": {
      "image/png": "[encoded data removed]",
      "text/plain": [
       "<matplotlib.figure.Figure at 0x206fabb0710>"
      ]
     },
     "metadata": {},
     "output_type": "display_data"
    },
    {
     "name": "stdout",
     "output_type": "stream",
     "text": [
      "2 4 None\n"
     ]
    }
   ],
   "source": [
    "import pprint\n",
    "from collections import deque\n",
    "from Graph import Graph\n",
    "from DiGraph import DiGraph\n",
    "import random\n",
    "\n",
    "\n",
    "class DepthFirstPaths(object):\n",
    "    \n",
    "    def __init__(self, G, s):\n",
    "        self.G = G\n",
    "        self.marked = [False for i in range(G.vertices())]\n",
    "        self.edgeTo = [None for i in range(G.vertices())]\n",
    "        self.source = s\n",
    "        self._dfp(s)\n",
    "    \n",
    "    def __str__(self):\n",
    "        return pprint.saferepr(self.edgeTo)\n",
    "    \n",
    "    def _dfp(self, s):\n",
    "        self.marked[s] = True\n",
    "        for neighbor in self.G.adjacent(s):\n",
    "            if not self.marked[neighbor]:\n",
    "                self.edgeTo[neighbor] = s\n",
    "                self._dfp(neighbor)\n",
    "                \n",
    "    def pathTo(self, sink):\n",
    "        path = deque()\n",
    "        while self.edgeTo[sink] is not None:\n",
    "            path.appendleft(sink)\n",
    "            sink = self.edgeTo[sink]\n",
    "        if sink != self.source:\n",
    "            return None\n",
    "        else:\n",
    "            path.appendleft(sink)\n",
    "            return list(path)\n",
    "            \n",
    "if __name__ == \"__main__\":\n",
    "    nodes = random.randint(1, 20)\n",
    "    edges = random.randint(0, nodes * int((nodes - 1) / 2))\n",
    "    g = Graph.generateRandomGraph(nodes, edges)\n",
    "    print(g)\n",
    "    g.displayGraph()\n",
    "    source = random.randint(0, nodes-1)\n",
    "    dfp = DepthFirstPaths(g, source)\n",
    "    sink = random.randint(0, nodes-1)\n",
    "    print(source, sink, dfp.pathTo(sink))\n",
    "    dg = DiGraph.generateRandomGraph(nodes, edges)\n",
    "    dg.displayGraph()\n",
    "    dfp = DepthFirstPaths(dg, source)\n",
    "    print(source, sink, dfp.pathTo(sink))\n",
    "    \n",
    "        \n",
    "    \n",
    "    \n",
    "        \n",
    "    \n",
    "        \n"
   ]
  },
  {
   "cell_type": "code",
   "execution_count": null,
   "metadata": {
    "collapsed": true
   },
   "outputs": [],
   "source": []
  },
  {
   "cell_type": "code",
   "execution_count": null,
   "metadata": {
    "collapsed": true
   },
   "outputs": [],
   "source": []
  }
 ],
 "metadata": {
  "kernelspec": {
   "display_name": "Python 3",
   "language": "python",
   "name": "python3"
  },
  "language_info": {
   "codemirror_mode": {
    "name": "ipython",
    "version": 3
   },
   "file_extension": ".py",
   "mimetype": "text/x-python",
   "name": "python",
   "nbconvert_exporter": "python",
   "pygments_lexer": "ipython3",
   "version": "3.6.2"
  }
 },
 "nbformat": 4,
 "nbformat_minor": 2
}
