{
 "cells": [
  {
   "cell_type": "code",
   "execution_count": 5,
   "metadata": {},
   "outputs": [
    {
     "name": "stdout",
     "output_type": "stream",
     "text": [
      "4 10\n",
      "{(0, 1): 41, (0, 3): 56, (0, 2): 100, (1, 1): 75, (1, 2): 29, (1, 3): 6, (3, 2): 9, (3, 3): 50}\n"
     ]
    },
    {
     "data": {
      "image/png": "[encoded data removed]",
      "text/plain": [
       "<matplotlib.figure.Figure at 0x20a3a5e0198>"
      ]
     },
     "metadata": {},
     "output_type": "display_data"
    },
    {
     "name": "stdout",
     "output_type": "stream",
     "text": [
      "['1 <--> 3, weight: 6', '2 <--> 3, weight: 9', '0 <--> 1, weight: 41']\n",
      "['1 <--> 3, weight: 6', '2 <--> 3, weight: 9', '0 <--> 1, weight: 41']\n"
     ]
    }
   ],
   "source": [
    "from EdgeWeightedGraph import EdgeWeightedGraph\n",
    "from Edge import Edge\n",
    "import sys\n",
    "sys.path.append(\"C:/Users/cawei/Algorithms/UnionFind\")  \n",
    "from UnionFind import UnionFind\n",
    "import random\n",
    "\n",
    "\n",
    "class KruskalMST(object):\n",
    "    \n",
    "    def __init__(self, g):\n",
    "        self._g = g\n",
    "        self._mst = None\n",
    "        self._weight = 0\n",
    "        self._computeMst()\n",
    "        self._validate()\n",
    "        \n",
    "    def weight(self):\n",
    "        return self._weight\n",
    "    \n",
    "    def mst(self):\n",
    "        return self._mst;\n",
    "    \n",
    "    def _computeMst(self):\n",
    "        cut = UnionFind(self._g.vertices())\n",
    "        self._mst = []\n",
    "        sortedEdges = sorted([edge for v in range(self._g.vertices()) for edge in self._g.adjacent(v) ])\n",
    "        edge = 0\n",
    "        for i, edge in enumerate(sortedEdges):\n",
    "            if len(self._mst) == self._g.vertices() - 1:\n",
    "                break\n",
    "            v = edge.either()\n",
    "            w = edge.other(v)\n",
    "            if cut.connected(v, w):\n",
    "                continue\n",
    "            cut.union(v, w)\n",
    "            self._mst.append(edge)\n",
    "            self._weight += edge._weight\n",
    "\n",
    "    def _validate(self):\n",
    "        #Check weight \n",
    "        totalWeight = sum([e.weight() for e in self.mst()])\n",
    "        assert self.weight() == totalWeight\n",
    "        \n",
    "        #Check acyclic\n",
    "        cut = UnionFind(self._g.vertices())\n",
    "        for edge in self.mst():\n",
    "            v = edge.either()\n",
    "            w = edge.other(v)\n",
    "            assert not cut.connected(v, w) \n",
    "            cut.union(v, w)\n",
    "        \n",
    "        #Check spanning\n",
    "        assert len(set([cut.find(v) for v in range(g.vertices())])) == 1\n",
    "            \n",
    "        #Check minimal weight\n",
    "        MST = self.mst()\n",
    "        print([str(x) for x in MST])\n",
    "        for edge in MST:\n",
    "            v = edge.either()\n",
    "            w = edge.other(v)\n",
    "            for otherEdge in [e for e in self._g.adjacent(v) if e not in MST and e.other(e.either()) != e.either()]:\n",
    "                assert edge.weight() <= otherEdge.weight(), \"Edge {} was greater than alternative {}\".format(str(edge), str(otherEdge))\n",
    "                \n",
    "                \n",
    "\n",
    "if __name__ == \"__main__\":\n",
    "    nodes = random.randint(1, 5)\n",
    "    edges = random.randint(0, nodes **2)\n",
    "    #edges = nodes - 1\n",
    "    print(nodes, edges)\n",
    "    g = EdgeWeightedGraph.generateRandomGraph(nodes, edges)\n",
    "    g.displayGraph()\n",
    "    kruskalMST = KruskalMST(g)\n",
    "    print([str(e) for e in kruskalMST.mst()])\n",
    "        \n",
    "        \n",
    "        \n",
    "    \n",
    "        "
   ]
  },
  {
   "cell_type": "code",
   "execution_count": null,
   "metadata": {
    "collapsed": true
   },
   "outputs": [],
   "source": []
  },
  {
   "cell_type": "code",
   "execution_count": null,
   "metadata": {
    "collapsed": true
   },
   "outputs": [],
   "source": []
  }
 ],
 "metadata": {
  "kernelspec": {
   "display_name": "Python 3",
   "language": "python",
   "name": "python3"
  },
  "language_info": {
   "codemirror_mode": {
    "name": "ipython",
    "version": 3
   },
   "file_extension": ".py",
   "mimetype": "text/x-python",
   "name": "python",
   "nbconvert_exporter": "python",
   "pygments_lexer": "ipython3",
   "version": "3.6.2"
  }
 },
 "nbformat": 4,
 "nbformat_minor": 2
}
