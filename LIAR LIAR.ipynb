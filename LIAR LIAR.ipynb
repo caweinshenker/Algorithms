{
 "cells": [
  {
   "cell_type": "code",
   "execution_count": 20,
   "metadata": {},
   "outputs": [
    {
     "name": "stdout",
     "output_type": "stream",
     "text": [
      "[[1, 1], [0, 0]]\n",
      "[[0, 0, 0], [0, 0, 0], [0, 0, 0]]\n",
      "[[0, 1, 1, 1], [1, 0, 1, 1], [1, 1, 0, 1], [1, 1, 1, 0]]\n",
      "[[0, 1, 0, 1, 0],\n",
      " [0, 0, 0, 0, 0],\n",
      " [1, 1, 0, 1, 1],\n",
      " [1, 1, 1, 1, 1],\n",
      " [0, 1, 0, 1, 0]]\n"
     ]
    }
   ],
   "source": [
    "import sys\n",
    "import pprint\n",
    "\n",
    "\n",
    "stdin = \"\"\"\n",
    "4\n",
    "2\n",
    "LL\n",
    "TT\n",
    "3\n",
    "TTT\n",
    "TTT\n",
    "TTT\n",
    "4\n",
    "TLLL\n",
    "LTLL\n",
    "LLTL\n",
    "LLLT\n",
    "5\n",
    "TLTLT\n",
    "TTTTT\n",
    "LLTLL\n",
    "LLLLL\n",
    "TLTLT\n",
    "\"\"\"\n",
    "\n",
    "\n",
    "def getTests():\n",
    "    sys.stdin = stdin\n",
    "    lines = sys.stdin.strip().split('\\n')\n",
    "    tests = int(lines[0].strip())\n",
    "    i = 1\n",
    "    testCases = []\n",
    "    while i < len(lines):\n",
    "        size = int(lines[i].strip())\n",
    "        i += 1\n",
    "        data = [[1 if c == 'L' else 0 for c in line.strip()] for line in lines[i:i+size]]\n",
    "        i += size\n",
    "        testCases.append((size, data))\n",
    "    return testCases\n",
    "        \n",
    "def findBounds(size, data):\n",
    "    knownLiars = set()\n",
    "    knownTruthers = set()\n",
    "    unknowns = set([i for i in range(size)])\n",
    "    \n",
    "    #When a liar identifies themself as such \n",
    "    #they are either telling the truth\n",
    "    #or it is a paradox\n",
    "    for i in in range(size):\n",
    "        if data[i][j] == 1:\n",
    "            knownLiars.add(i)\n",
    "            unknowns.remove(i)\n",
    "    \n",
    "            \n",
    "            \n",
    "    \n",
    "\n",
    "if __name__ == \"__main__\":\n",
    "    tests = getTests()\n",
    "    for case, data in enumerate(tests):\n",
    "        size, data = data\n",
    "        lowerBound, upperBound = findBounds(size, data)\n",
    "        \n",
    "        \n",
    "\n"
   ]
  },
  {
   "cell_type": "code",
   "execution_count": null,
   "metadata": {
    "collapsed": true
   },
   "outputs": [],
   "source": []
  }
 ],
 "metadata": {
  "kernelspec": {
   "display_name": "Python 3",
   "language": "python",
   "name": "python3"
  },
  "language_info": {
   "codemirror_mode": {
    "name": "ipython",
    "version": 3
   },
   "file_extension": ".py",
   "mimetype": "text/x-python",
   "name": "python",
   "nbconvert_exporter": "python",
   "pygments_lexer": "ipython3",
   "version": "3.6.2"
  }
 },
 "nbformat": 4,
 "nbformat_minor": 2
}
