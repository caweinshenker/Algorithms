{
 "cells": [
  {
   "cell_type": "code",
   "execution_count": 76,
   "metadata": {},
   "outputs": [
    {
     "name": "stdout",
     "output_type": "stream",
     "text": [
      "\n",
      "['AEXKRHIGA', 'ARNLVFMS', 'AROMRXUBV', 'ARWPLQ', 'B', 'BCTYAVPAAA', 'BTYTE', 'BX', 'C', 'CX', 'D', 'DDVOTL', 'DIDCKAG', 'DMMKJEQTVN', 'DTRPQXAWA', 'E', 'FTQGYSIP', 'GUQWY', 'H', 'HCQHZ', 'HKQEVYQUEA', 'ICBDI', 'IJAP', 'IRTSCYS', 'IXHRSP', 'IXOESJ', 'IZAIKNQO', 'J', 'JXNGKFQLDF', 'KZUGX', 'LSLKNNR', 'LV', 'M', 'MIIXUPUJ', 'MMRDTM', 'NBZKPSCJUO', 'OBNOWN', 'OVMP', 'PDZXS', 'PHUZJGGZW', 'PNXTRNIYF', 'PYPWWAP', 'Q', 'QAC', 'QCSJSA', 'QD', 'QIM', 'QKCMRYN', 'QKRFZPLTRC', 'QUHMZ', 'RJ', 'RNJ', 'RPLEJIB', 'RSL', 'S', 'SUXORQIG', 'TPVEUTWXG', 'TWIFHUOJ', 'UBFW', 'UNI', 'VPC', 'VZUTLRWR', 'WLE', 'WP', 'WTHV', 'WXZGFFUJ', 'XAT', 'XOYTFVCQQ', 'XQKZKC', 'YFSDPQKYE', 'YOHBLF', 'YOJJASZLA']\n"
     ]
    }
   ],
   "source": [
    "import random \n",
    "\n",
    "class LSDRadixSort(object):\n",
    "    \n",
    "    @staticmethod\n",
    "    def sort(arr, R):\n",
    "        n = len(arr)\n",
    "        \n",
    "        #Get maximum length of input strings\n",
    "        maxLen = max([len(s) for s in arr])\n",
    "        aux = [None for i in range(n)]\n",
    "   \n",
    "        for d in range(maxLen - 1, -1, -1):\n",
    "            \n",
    "            #Compute frequencies\n",
    "            freq = [0 for i in range(R + 1)]\n",
    "            for s in arr:\n",
    "                freq[ord(LSDRadixSort.__getChar(s, d)) + 1] += 1\n",
    "                \n",
    "            #Compute cumulates\n",
    "            for r in range(R):\n",
    "                freq[r+1] += freq[r]\n",
    "            \n",
    "            #Map inputs to correct positions\n",
    "            for s in arr:\n",
    "                c = ord(LSDRadixSort.__getChar(s, d))\n",
    "                aux[freq[c]] = s\n",
    "                freq[c] += 1\n",
    "            arr = aux[:]\n",
    "        return arr\n",
    "                    \n",
    "    @staticmethod\n",
    "    def __getChar(s, d):\n",
    "        return s[d] if len(s) > d else '0'\n",
    "        \n",
    "\n",
    "if __name__ == \"__main__\":\n",
    "    length = random.randint(1, 100)\n",
    "    arr = []\n",
    "    R = 256\n",
    "    for i in range(length):\n",
    "        strLength = random.randint(1, 10)\n",
    "        arr.append(\"\".join([chr(random.randint(65, 90)) for c in range(strLength)]))\n",
    "    sortedArr = sorted(arr)\n",
    "    radixSorted = LSDRadixSort.sort(arr, 256)\n",
    "    print()\n",
    "    print(radixSorted)\n",
    "    for i in range(len(arr)):\n",
    "        assert sortedArr[i] == radixSorted[i]"
   ]
  },
  {
   "cell_type": "code",
   "execution_count": null,
   "metadata": {
    "collapsed": true
   },
   "outputs": [],
   "source": []
  }
 ],
 "metadata": {
  "kernelspec": {
   "display_name": "Python 3",
   "language": "python",
   "name": "python3"
  },
  "language_info": {
   "codemirror_mode": {
    "name": "ipython",
    "version": 3
   },
   "file_extension": ".py",
   "mimetype": "text/x-python",
   "name": "python",
   "nbconvert_exporter": "python",
   "pygments_lexer": "ipython3",
   "version": "3.6.2"
  }
 },
 "nbformat": 4,
 "nbformat_minor": 2
}
