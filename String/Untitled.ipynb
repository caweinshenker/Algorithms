{
 "cells": [
  {
   "cell_type": "code",
   "execution_count": 68,
   "metadata": {},
   "outputs": [
    {
     "name": "stdout",
     "output_type": "stream",
     "text": [
      "['WKBOHVWFZR', 'HDMUCQXGHA', 'VFHLNIPLWU', 'YUJHRBNYGQ', 'OHZLAJAFTH', 'TUTPBMRTNR', 'ZEUBPWJPQL', 'MEUDJOOULJ', 'JEAJYXMIVP', 'FMHUYUIKDK', 'VBJUAMGZHO', 'EXCWEWIWUK', 'ZKXUXAICZJ', 'YGDIWGYARK', 'HSMZAKHEGH', 'CIANJGTGVR', 'IJLLBNYGJL', 'DFNMMGPCBB', 'ZXVWRSRKPO', 'FBQNKVTJPT', 'TPABAMZSUE', 'NHCTMPHUGJ', 'VGFLTJQJVF', 'OOXGUTHGJV', 'DKPHZUZPRS', 'LTGQFXECOB', 'MIDHAPCIEK', 'BMIFEWCMPD', 'CNNPMGYLYR', 'FGSEJRCSMS', 'FVNFZNRXVJ', 'KZSYVUNZGU', 'LIBTDEWPDF', 'LJANYOLUWZ', 'UVYCASFHJV', 'VTNPFJTFDG', 'EMGWBNFQSM', 'IARDZJHECF', 'AEVTXUOVBZ', 'WDLMAQSVCW', 'PUIQTEOQIH', 'WHXPVAAMYH', 'JTCGVUUYZE', 'YXNVGFVDHU', 'QMVSMAZZNF', 'WFJXCBBZKP', 'AUBCQSCVRI', 'BSXKSAIFAA', 'QSXQDLPECD', 'LCLWABBLHP', 'HKXFCPMDPW', 'XLPFOGSNQL', 'VVIWGGJGAA', 'VKNWJLYXGM', 'XZEUGYISYX', 'UXAANSUSIX', 'SISKDYCJJT', 'YMUUAYMJIW', 'WFGMVUTGMD', 'WBEJEFPDLH', 'LKEYUAYPIM', 'ITNLJYIFKS', 'JROTOJBAQB', 'CVCKHSFLQE', 'KVICMRRWRN', 'GVROPAZOYN', 'ORVPBRQKKC', 'MDJYWMIVIA', 'SCVPGWZRMM', 'TBNQKKZBRX', 'SSIPENAZYK', 'NBBEJAFSWN', 'QNCQHEKIIO', 'UOMLOUNNQW', 'JMQKKTOJSD', 'QKWFOQJTLT', 'YJIDRUMZUH', 'PXUKUGLYZG', 'HELNTHRSCQ', 'FKAVBKSRDI', 'PITIVVFFRK']\n"
     ]
    }
   ],
   "source": [
    "import random \n",
    "\n",
    "class LSDRadixSort(object):\n",
    "    \n",
    "    @staticmethod\n",
    "    def sort(arr, R):\n",
    "        n = len(arr)\n",
    "        \n",
    "        #Get maximum length of input strings\n",
    "        maxLen = max([len(s) for s in arr])\n",
    "\n",
    "        \n",
    "        for d in range(maxLen - 1, -1, -1):\n",
    "            aux = [None for i in range(n)]\n",
    "            \n",
    "            #Compute frequencies\n",
    "            freq = [0 for i in range(R + 1)]\n",
    "            for s in arr:\n",
    "                freq[ord(s[d]) + 1] += 1\n",
    "                \n",
    "            #Compute cumulates\n",
    "            for r in range(R):\n",
    "                freq[r+1] += freq[r]\n",
    "            \n",
    "            #Map inputs to correct positions\n",
    "            for s in arr:\n",
    "                c = ord(s[d])\n",
    "                aux[freq[c]] = s\n",
    "                freq[c] += 1\n",
    "            arr = aux\n",
    "        return arr\n",
    "                    \n",
    "    @staticmethod\n",
    "    def __getChar(s, d):\n",
    "        if len(s) < d:\n",
    "            return s[0]\n",
    "        else:\n",
    "            return s[len(d) - d - 1]\n",
    "        \n",
    "\n",
    "if __name__ == \"__main__\":\n",
    "    length = random.randint(1, 100)\n",
    "    arr = []\n",
    "    R = 256\n",
    "    for i in range(length):\n",
    "        strLength = 10\n",
    "        arr.append(\"\".join([chr(random.randint(65, 90)) for c in range(strLength)]))\n",
    "    print(arr)\n",
    "    sortedArr = sorted(arr)\n",
    "    radixSorted = LSDRadixSort.sort(arr, 256)\n",
    "    for i in range(len(arr)):\n",
    "        assert sortedArr[i] == radixSorted[i]"
   ]
  },
  {
   "cell_type": "code",
   "execution_count": null,
   "metadata": {
    "collapsed": true
   },
   "outputs": [],
   "source": []
  }
 ],
 "metadata": {
  "kernelspec": {
   "display_name": "Python 3",
   "language": "python",
   "name": "python3"
  },
  "language_info": {
   "codemirror_mode": {
    "name": "ipython",
    "version": 3
   },
   "file_extension": ".py",
   "mimetype": "text/x-python",
   "name": "python",
   "nbconvert_exporter": "python",
   "pygments_lexer": "ipython3",
   "version": "3.6.2"
  }
 },
 "nbformat": 4,
 "nbformat_minor": 2
}
