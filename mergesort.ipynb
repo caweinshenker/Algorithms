{
 "cells": [
  {
   "cell_type": "code",
   "execution_count": 11,
   "metadata": {},
   "outputs": [
    {
     "name": "stdout",
     "output_type": "stream",
     "text": [
      "Size:  680023\n",
      "Initialization took %d 0.0\n",
      "Native sort took  0.2505025863647461\n",
      "Custom sort took  6.759267091751099\n"
     ]
    }
   ],
   "source": [
    "#mergesort\n",
    "\n",
    "import numpy as np\n",
    "import random\n",
    "import time\n",
    "\n",
    "def merge(arr, l1, r1, l2, r2):\n",
    "    left = l1\n",
    "    aux = []\n",
    "    while l1 < r1 and l2 < r2:\n",
    "        if arr[l1] < arr[l2]:\n",
    "            aux.append(arr[l1])\n",
    "            l1 += 1\n",
    "        else:\n",
    "            aux.append(arr[l2])\n",
    "            l2 += 1\n",
    "    while l1 < r1:\n",
    "        aux.append(arr[l1])\n",
    "        l1 += 1\n",
    "    while l2 < r2:\n",
    "        aux.append(arr[l2])\n",
    "        l2 += 1\n",
    "    #print(aux, left, r2)\n",
    "    for i in range(len(aux)):\n",
    "        arr[left + i] = aux[i]\n",
    "        \n",
    "def mergesort_helper(arr, l, r):\n",
    "    if r - l <= 1: return\n",
    "    mid = l + int((r - l) / 2)\n",
    "    mergesort_helper(arr, l, mid)\n",
    "    mergesort_helper(arr, mid,  r)\n",
    "    merge(arr, l, mid, mid, r)\n",
    "\n",
    "\n",
    "def mergesort_recursive(arr):\n",
    "    mergesort_helper(arr, 0, len(arr))\n",
    "    \n",
    "\n",
    "def mergesort_iterative(arr):\n",
    "    n = len(arr)\n",
    "    curSize = 1\n",
    "    while curSize < n:\n",
    "        for left in range(0, n, 2 * curSize):\n",
    "            mid, right = min(left + curSize, n), min(left + 2 * curSize, n)\n",
    "            merge(arr, left, mid, mid, right)\n",
    "        curSize *= 2\n",
    "    \n",
    "\n",
    "def main():\n",
    "    nativeTime = 0\n",
    "    msTime = 0\n",
    "    for i in range(1):\n",
    "        size = random.randint(0, 1000000)\n",
    "        print(\"Size: \", size)\n",
    "        start = time.time()\n",
    "        testArr = [1, 0, 2]\n",
    "        testArr = np.random.randint(1000, size=size)\n",
    "        print(\"Initialization took %d\", time.time() - start)\n",
    "        #testArr = [1, 0, 2,3]\n",
    "        start = time.time()\n",
    "        correctSort = sorted(testArr)\n",
    "        nativeTime += time.time() - start\n",
    "        print(\"Native sort took \", time.time() - start)\n",
    "        \n",
    "        start = time.time()\n",
    "        mergesort_iterative(testArr)\n",
    "        print(\"Custom sort took \", time.time() - start)\n",
    "        #print(testArr)\n",
    "        #print(correctSort)\n",
    "        assert(len(testArr) == len(correctSort))\n",
    "        for i in range(len(testArr)):\n",
    "            assert(testArr[i] == correctSort[i])\n",
    "\n",
    "main()"
   ]
  },
  {
   "cell_type": "code",
   "execution_count": null,
   "metadata": {
    "collapsed": true
   },
   "outputs": [],
   "source": []
  },
  {
   "cell_type": "code",
   "execution_count": null,
   "metadata": {
    "collapsed": true
   },
   "outputs": [],
   "source": []
  }
 ],
 "metadata": {
  "kernelspec": {
   "display_name": "Python 3",
   "language": "python",
   "name": "python3"
  },
  "language_info": {
   "codemirror_mode": {
    "name": "ipython",
    "version": 3
   },
   "file_extension": ".py",
   "mimetype": "text/x-python",
   "name": "python",
   "nbconvert_exporter": "python",
   "pygments_lexer": "ipython3",
   "version": "3.6.2"
  }
 },
 "nbformat": 4,
 "nbformat_minor": 2
}
